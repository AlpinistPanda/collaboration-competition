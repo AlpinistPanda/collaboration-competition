{
 "cells": [
  {
   "cell_type": "markdown",
   "metadata": {},
   "source": [
    "# Collaboration and Competition\n",
    "\n",
    "---\n",
    "\n",
    "You are welcome to use this coding environment to train your agent for the project.  Follow the instructions below to get started!\n",
    "\n",
    "### 1. Start the Environment\n",
    "\n",
    "Run the next code cell to install a few packages.  This line will take a few minutes to run!"
   ]
  },
  {
   "cell_type": "code",
   "execution_count": 1,
   "metadata": {},
   "outputs": [
    {
     "name": "stdout",
     "output_type": "stream",
     "text": [
      "\u001b[31mtensorflow 1.7.1 has requirement numpy>=1.13.3, but you'll have numpy 1.12.1 which is incompatible.\u001b[0m\r\n",
      "\u001b[31mipython 6.5.0 has requirement prompt-toolkit<2.0.0,>=1.0.15, but you'll have prompt-toolkit 3.0.5 which is incompatible.\u001b[0m\r\n"
     ]
    }
   ],
   "source": [
    "!pip -q install ./python"
   ]
  },
  {
   "cell_type": "markdown",
   "metadata": {},
   "source": [
    "The environment is already saved in the Workspace and can be accessed at the file path provided below. "
   ]
  },
  {
   "cell_type": "code",
   "execution_count": 2,
   "metadata": {},
   "outputs": [
    {
     "name": "stderr",
     "output_type": "stream",
     "text": [
      "INFO:unityagents:\n",
      "'Academy' started successfully!\n",
      "Unity Academy name: Academy\n",
      "        Number of Brains: 1\n",
      "        Number of External Brains : 1\n",
      "        Lesson number : 0\n",
      "        Reset Parameters :\n",
      "\t\t\n",
      "Unity brain name: TennisBrain\n",
      "        Number of Visual Observations (per agent): 0\n",
      "        Vector Observation space type: continuous\n",
      "        Vector Observation space size (per agent): 8\n",
      "        Number of stacked Vector Observation: 3\n",
      "        Vector Action space type: continuous\n",
      "        Vector Action space size (per agent): 2\n",
      "        Vector Action descriptions: , \n"
     ]
    }
   ],
   "source": [
    "from unityagents import UnityEnvironment\n",
    "import numpy as np\n",
    "import sys\n",
    "import pickle\n",
    "import torch\n",
    "import pandas as pd\n",
    "import matplotlib.pyplot as plt\n",
    "\n",
    "from PPO import GaussianActorCriticNetwork\n",
    "from PPO import PPOAgent\n",
    "\n",
    "env = UnityEnvironment(file_name=\"/data/Tennis_Linux_NoVis/Tennis\")"
   ]
  },
  {
   "cell_type": "markdown",
   "metadata": {},
   "source": [
    "Environments contain **_brains_** which are responsible for deciding the actions of their associated agents. Here we check for the first brain available, and set it as the default brain we will be controlling from Python."
   ]
  },
  {
   "cell_type": "code",
   "execution_count": 3,
   "metadata": {},
   "outputs": [],
   "source": [
    "# get the default brain\n",
    "brain_name = env.brain_names[0]\n",
    "brain = env.brains[brain_name]"
   ]
  },
  {
   "cell_type": "markdown",
   "metadata": {},
   "source": [
    "### 2. Examine the State and Action Spaces\n",
    "\n",
    "Run the code cell below to print some information about the environment."
   ]
  },
  {
   "cell_type": "code",
   "execution_count": 4,
   "metadata": {},
   "outputs": [
    {
     "name": "stdout",
     "output_type": "stream",
     "text": [
      "Number of agents: 2\n",
      "Size of each action: 2\n",
      "There are 2 agents. Each observes a state with length: 24\n",
      "The state for the first agent looks like: [ 0.          0.          0.          0.          0.          0.          0.\n",
      "  0.          0.          0.          0.          0.          0.          0.\n",
      "  0.          0.         -6.65278625 -1.5        -0.          0.\n",
      "  6.83172083  6.         -0.          0.        ]\n"
     ]
    }
   ],
   "source": [
    "# reset the environment\n",
    "env_info = env.reset(train_mode=True)[brain_name]\n",
    "\n",
    "# number of agents \n",
    "num_agents = len(env_info.agents)\n",
    "print('Number of agents:', num_agents)\n",
    "\n",
    "# size of each action\n",
    "action_size = brain.vector_action_space_size\n",
    "print('Size of each action:', action_size)\n",
    "\n",
    "# examine the state space \n",
    "states = env_info.vector_observations\n",
    "state_size = states.shape[1]\n",
    "print('There are {} agents. Each observes a state with length: {}'.format(states.shape[0], state_size))\n",
    "print('The state for the first agent looks like:', states[0])"
   ]
  },
  {
   "cell_type": "markdown",
   "metadata": {},
   "source": [
    "### 3. Take Random Actions in the Environment\n",
    "\n",
    "In the next code cell, you will learn how to use the Python API to control the agent and receive feedback from the environment.\n",
    "\n",
    "Note that **in this coding environment, you will not be able to watch the agents while they are training**, and you should set `train_mode=True` to restart the environment."
   ]
  },
  {
   "cell_type": "code",
   "execution_count": 6,
   "metadata": {},
   "outputs": [
    {
     "name": "stdout",
     "output_type": "stream",
     "text": [
      "Total score (averaged over agents) this episode: -0.004999999888241291\n",
      "Total score (averaged over agents) this episode: 0.09500000160187483\n",
      "Total score (averaged over agents) this episode: 0.04500000085681677\n",
      "Total score (averaged over agents) this episode: -0.004999999888241291\n",
      "Total score (averaged over agents) this episode: -0.004999999888241291\n"
     ]
    }
   ],
   "source": [
    "for i in range(5):                                         # play game for 5 episodes\n",
    "    env_info = env.reset(train_mode=False)[brain_name]     # reset the environment    \n",
    "    states = env_info.vector_observations                  # get the current state (for each agent)\n",
    "    scores = np.zeros(num_agents)                          # initialize the score (for each agent)\n",
    "    while True:\n",
    "        actions = np.random.randn(num_agents, action_size) # select an action (for each agent)\n",
    "        actions = np.clip(actions, -1, 1)                  # all actions between -1 and 1\n",
    "        env_info = env.step(actions)[brain_name]           # send all actions to tne environment\n",
    "        next_states = env_info.vector_observations         # get next state (for each agent)\n",
    "        rewards = env_info.rewards                         # get reward (for each agent)\n",
    "        dones = env_info.local_done                        # see if episode finished\n",
    "        scores += env_info.rewards                         # update the score (for each agent)\n",
    "        states = next_states                               # roll over states to next time step\n",
    "        if np.any(dones):                                  # exit loop if episode finished\n",
    "            break\n",
    "    print('Total score (averaged over agents) this episode: {}'.format(np.mean(scores)))"
   ]
  },
  {
   "cell_type": "markdown",
   "metadata": {},
   "source": [
    "When finished, you can close the environment."
   ]
  },
  {
   "cell_type": "code",
   "execution_count": 5,
   "metadata": {},
   "outputs": [],
   "source": [
    "def get_env_info(env):\n",
    "    # reset the environment\n",
    "    brain_name = env.brain_names[0]\n",
    "    brain = env.brains[brain_name]\n",
    "    env_info = env.reset(train_mode=True)[brain_name]\n",
    "    n_agent = len(env_info.agents)\n",
    "    action_dim = brain.vector_action_space_size\n",
    "    states = env_info.vector_observations\n",
    "    state_dim = states.shape[1]\n",
    "\n",
    "    return n_agent, state_dim, action_dim\n"
   ]
  },
  {
   "cell_type": "code",
   "execution_count": 6,
   "metadata": {},
   "outputs": [],
   "source": [
    "def train():\n",
    "    device = torch.device('cuda:0' if torch.cuda.is_available() else 'cpu')\n",
    "    \n",
    "    n_agent, state_dim, action_dim = get_env_info(env)\n",
    "    model = GaussianActorCriticNetwork(state_dim, action_dim, hiddens=[512, 256])\n",
    "    model = model.to(device)\n",
    "    agent = PPOAgent(env, model, tmax=1024, n_epoch=20,\n",
    "                     batch_size=128, eps=0.1, device=device)\n",
    "\n",
    "    n_step = 2000\n",
    "    n_episodes = 0\n",
    "    for step in range(n_step):\n",
    "        agent.step()\n",
    "        scores = agent.scores_by_episode\n",
    "        if n_episodes < len(scores):\n",
    "            n_episodes = len(scores)\n",
    "            print(f\" episode #{n_episodes} : score = {scores[-1]:.2f}\", end=\"\")\n",
    "            if 100 <= n_episodes:\n",
    "                rewards_ma = np.mean(scores[-100:])\n",
    "                print(f\", mean score of last 100 episodes = {rewards_ma:.2f}\")\n",
    "                if .5 <= rewards_ma:\n",
    "                    torch.save(model.state_dict(), \"model.pth\")\n",
    "                    with open('result.pickle', 'wb') as fp:\n",
    "                        pickle.dump(scores, fp)\n",
    "                    print(\"\\n ==== Achieved criteria! Model is saved.\")\n",
    "                    break\n",
    "            else:\n",
    "                print()\n",
    "        sys.stdout.flush()"
   ]
  },
  {
   "cell_type": "code",
   "execution_count": 7,
   "metadata": {},
   "outputs": [
    {
     "name": "stdout",
     "output_type": "stream",
     "text": [
      " episode #64 : score = -0.00\n",
      " episode #122 : score = -0.00, mean score of last 100 episodes = 0.00\n",
      " episode #190 : score = -0.00, mean score of last 100 episodes = -0.00\n",
      " episode #258 : score = -0.00, mean score of last 100 episodes = -0.00\n",
      " episode #319 : score = -0.00, mean score of last 100 episodes = 0.00\n",
      " episode #368 : score = -0.00, mean score of last 100 episodes = 0.01\n",
      " episode #421 : score = -0.00, mean score of last 100 episodes = 0.01\n",
      " episode #481 : score = -0.00, mean score of last 100 episodes = 0.00\n",
      " episode #541 : score = 0.05, mean score of last 100 episodes = 0.00\n",
      " episode #602 : score = -0.00, mean score of last 100 episodes = 0.00\n",
      " episode #662 : score = -0.00, mean score of last 100 episodes = 0.00\n",
      " episode #719 : score = -0.00, mean score of last 100 episodes = 0.00\n",
      " episode #772 : score = -0.00, mean score of last 100 episodes = 0.01\n",
      " episode #833 : score = -0.00, mean score of last 100 episodes = 0.00\n",
      " episode #894 : score = 0.05, mean score of last 100 episodes = 0.00\n",
      " episode #953 : score = -0.00, mean score of last 100 episodes = 0.00\n",
      " episode #1011 : score = -0.00, mean score of last 100 episodes = 0.00\n",
      " episode #1066 : score = -0.00, mean score of last 100 episodes = 0.01\n",
      " episode #1123 : score = -0.00, mean score of last 100 episodes = 0.01\n",
      " episode #1166 : score = -0.00, mean score of last 100 episodes = 0.01\n",
      " episode #1216 : score = -0.00, mean score of last 100 episodes = 0.02\n",
      " episode #1270 : score = -0.00, mean score of last 100 episodes = 0.01\n",
      " episode #1321 : score = -0.00, mean score of last 100 episodes = 0.01\n",
      " episode #1366 : score = -0.00, mean score of last 100 episodes = 0.01\n",
      " episode #1412 : score = -0.00, mean score of last 100 episodes = 0.02\n",
      " episode #1461 : score = 0.05, mean score of last 100 episodes = 0.01\n",
      " episode #1504 : score = -0.00, mean score of last 100 episodes = 0.01\n",
      " episode #1542 : score = -0.00, mean score of last 100 episodes = 0.02\n",
      " episode #1588 : score = 0.05, mean score of last 100 episodes = 0.02\n",
      " episode #1634 : score = -0.00, mean score of last 100 episodes = 0.02\n",
      " episode #1666 : score = -0.00, mean score of last 100 episodes = 0.02\n",
      " episode #1702 : score = -0.00, mean score of last 100 episodes = 0.03\n",
      " episode #1737 : score = 0.10, mean score of last 100 episodes = 0.03\n",
      " episode #1772 : score = -0.00, mean score of last 100 episodes = 0.03\n",
      " episode #1807 : score = -0.00, mean score of last 100 episodes = 0.04\n",
      " episode #1841 : score = -0.00, mean score of last 100 episodes = 0.04\n",
      " episode #1877 : score = 0.05, mean score of last 100 episodes = 0.03\n",
      " episode #1913 : score = -0.00, mean score of last 100 episodes = 0.03\n",
      " episode #1951 : score = 0.05, mean score of last 100 episodes = 0.03\n",
      " episode #1988 : score = 0.05, mean score of last 100 episodes = 0.03\n",
      " episode #2020 : score = 0.05, mean score of last 100 episodes = 0.03\n",
      " episode #2051 : score = 0.15, mean score of last 100 episodes = 0.04\n",
      " episode #2091 : score = -0.00, mean score of last 100 episodes = 0.04\n",
      " episode #2131 : score = 0.05, mean score of last 100 episodes = 0.03\n",
      " episode #2161 : score = 0.05, mean score of last 100 episodes = 0.03\n",
      " episode #2195 : score = -0.00, mean score of last 100 episodes = 0.04\n",
      " episode #2223 : score = 0.05, mean score of last 100 episodes = 0.04\n",
      " episode #2248 : score = 0.05, mean score of last 100 episodes = 0.05\n",
      " episode #2279 : score = 0.05, mean score of last 100 episodes = 0.05\n",
      " episode #2312 : score = -0.00, mean score of last 100 episodes = 0.05\n",
      " episode #2343 : score = 0.05, mean score of last 100 episodes = 0.05\n",
      " episode #2373 : score = 0.05, mean score of last 100 episodes = 0.05\n",
      " episode #2405 : score = -0.00, mean score of last 100 episodes = 0.05\n",
      " episode #2437 : score = 0.10, mean score of last 100 episodes = 0.05\n",
      " episode #2466 : score = 0.05, mean score of last 100 episodes = 0.04\n",
      " episode #2493 : score = 0.05, mean score of last 100 episodes = 0.05\n",
      " episode #2518 : score = 0.10, mean score of last 100 episodes = 0.06\n",
      " episode #2547 : score = 0.05, mean score of last 100 episodes = 0.06\n",
      " episode #2581 : score = 0.10, mean score of last 100 episodes = 0.06\n",
      " episode #2610 : score = 0.15, mean score of last 100 episodes = 0.05\n",
      " episode #2638 : score = 0.05, mean score of last 100 episodes = 0.05\n",
      " episode #2671 : score = 0.05, mean score of last 100 episodes = 0.05\n",
      " episode #2698 : score = -0.00, mean score of last 100 episodes = 0.05\n",
      " episode #2726 : score = -0.00, mean score of last 100 episodes = 0.05\n",
      " episode #2751 : score = 0.05, mean score of last 100 episodes = 0.06\n",
      " episode #2777 : score = -0.00, mean score of last 100 episodes = 0.06\n",
      " episode #2804 : score = 0.05, mean score of last 100 episodes = 0.06\n",
      " episode #2834 : score = 0.05, mean score of last 100 episodes = 0.06\n",
      " episode #2859 : score = 0.10, mean score of last 100 episodes = 0.05\n",
      " episode #2882 : score = 0.05, mean score of last 100 episodes = 0.06\n",
      " episode #2906 : score = 0.10, mean score of last 100 episodes = 0.07\n",
      " episode #2926 : score = 0.15, mean score of last 100 episodes = 0.07\n",
      " episode #2952 : score = 0.05, mean score of last 100 episodes = 0.08\n",
      " episode #2978 : score = 0.05, mean score of last 100 episodes = 0.07\n",
      " episode #2998 : score = -0.00, mean score of last 100 episodes = 0.07\n",
      " episode #3022 : score = -0.00, mean score of last 100 episodes = 0.07\n",
      " episode #3045 : score = -0.00, mean score of last 100 episodes = 0.07\n",
      " episode #3069 : score = 0.05, mean score of last 100 episodes = 0.07\n",
      " episode #3093 : score = 0.05, mean score of last 100 episodes = 0.07\n",
      " episode #3116 : score = 0.05, mean score of last 100 episodes = 0.07\n",
      " episode #3141 : score = 0.15, mean score of last 100 episodes = 0.07\n",
      " episode #3164 : score = 0.05, mean score of last 100 episodes = 0.07\n",
      " episode #3188 : score = -0.00, mean score of last 100 episodes = 0.07\n",
      " episode #3211 : score = -0.00, mean score of last 100 episodes = 0.07\n",
      " episode #3231 : score = 0.05, mean score of last 100 episodes = 0.08\n",
      " episode #3254 : score = -0.00, mean score of last 100 episodes = 0.08\n",
      " episode #3276 : score = 0.05, mean score of last 100 episodes = 0.08\n",
      " episode #3293 : score = 0.05, mean score of last 100 episodes = 0.09\n",
      " episode #3315 : score = 0.05, mean score of last 100 episodes = 0.09\n",
      " episode #3336 : score = 0.15, mean score of last 100 episodes = 0.09\n",
      " episode #3358 : score = 0.20, mean score of last 100 episodes = 0.09\n",
      " episode #3381 : score = 0.10, mean score of last 100 episodes = 0.09\n",
      " episode #3400 : score = 0.05, mean score of last 100 episodes = 0.09\n",
      " episode #3416 : score = 0.05, mean score of last 100 episodes = 0.09\n",
      " episode #3440 : score = 0.05, mean score of last 100 episodes = 0.09\n",
      " episode #3457 : score = 0.05, mean score of last 100 episodes = 0.10\n",
      " episode #3475 : score = 0.05, mean score of last 100 episodes = 0.10\n",
      " episode #3494 : score = 0.05, mean score of last 100 episodes = 0.10\n",
      " episode #3516 : score = 0.10, mean score of last 100 episodes = 0.09\n",
      " episode #3540 : score = 0.10, mean score of last 100 episodes = 0.09\n",
      " episode #3556 : score = 0.15, mean score of last 100 episodes = 0.09\n",
      " episode #3574 : score = 0.15, mean score of last 100 episodes = 0.09\n",
      " episode #3590 : score = -0.00, mean score of last 100 episodes = 0.10\n",
      " episode #3608 : score = 0.05, mean score of last 100 episodes = 0.10\n",
      " episode #3627 : score = 0.15, mean score of last 100 episodes = 0.10\n",
      " episode #3642 : score = 0.10, mean score of last 100 episodes = 0.12\n",
      " episode #3655 : score = 0.10, mean score of last 100 episodes = 0.12\n",
      " episode #3673 : score = 0.14, mean score of last 100 episodes = 0.12\n",
      " episode #3690 : score = 0.15, mean score of last 100 episodes = 0.12\n",
      " episode #3710 : score = 0.05, mean score of last 100 episodes = 0.12\n",
      " episode #3727 : score = 0.10, mean score of last 100 episodes = 0.12\n",
      " episode #3745 : score = 0.05, mean score of last 100 episodes = 0.11\n",
      " episode #3768 : score = 0.05, mean score of last 100 episodes = 0.10\n",
      " episode #3787 : score = 0.05, mean score of last 100 episodes = 0.10\n",
      " episode #3807 : score = 0.05, mean score of last 100 episodes = 0.10\n",
      " episode #3823 : score = 0.20, mean score of last 100 episodes = 0.10\n",
      " episode #3835 : score = 0.25, mean score of last 100 episodes = 0.11\n",
      " episode #3852 : score = 0.05, mean score of last 100 episodes = 0.11\n"
     ]
    },
    {
     "name": "stdout",
     "output_type": "stream",
     "text": [
      " episode #3869 : score = 0.15, mean score of last 100 episodes = 0.11\n",
      " episode #3882 : score = 0.35, mean score of last 100 episodes = 0.12\n",
      " episode #3898 : score = 0.25, mean score of last 100 episodes = 0.13\n",
      " episode #3912 : score = 0.05, mean score of last 100 episodes = 0.13\n",
      " episode #3930 : score = 0.15, mean score of last 100 episodes = 0.13\n",
      " episode #3945 : score = 0.10, mean score of last 100 episodes = 0.13\n",
      " episode #3958 : score = 0.10, mean score of last 100 episodes = 0.14\n",
      " episode #3976 : score = 0.05, mean score of last 100 episodes = 0.13\n",
      " episode #3996 : score = 0.10, mean score of last 100 episodes = 0.12\n",
      " episode #4009 : score = 0.05, mean score of last 100 episodes = 0.12\n",
      " episode #4022 : score = 0.20, mean score of last 100 episodes = 0.13\n",
      " episode #4032 : score = 0.65, mean score of last 100 episodes = 0.14\n",
      " episode #4050 : score = 0.05, mean score of last 100 episodes = 0.13\n",
      " episode #4061 : score = 0.35, mean score of last 100 episodes = 0.14\n",
      " episode #4076 : score = 0.15, mean score of last 100 episodes = 0.15\n",
      " episode #4087 : score = 0.20, mean score of last 100 episodes = 0.16\n",
      " episode #4102 : score = 0.15, mean score of last 100 episodes = 0.15\n",
      " episode #4113 : score = 0.10, mean score of last 100 episodes = 0.16\n",
      " episode #4127 : score = 0.35, mean score of last 100 episodes = 0.16\n",
      " episode #4141 : score = 0.15, mean score of last 100 episodes = 0.16\n",
      " episode #4157 : score = 0.05, mean score of last 100 episodes = 0.16\n",
      " episode #4170 : score = 0.20, mean score of last 100 episodes = 0.15\n",
      " episode #4181 : score = 0.35, mean score of last 100 episodes = 0.16\n",
      " episode #4192 : score = 0.55, mean score of last 100 episodes = 0.16\n",
      " episode #4207 : score = 0.05, mean score of last 100 episodes = 0.16\n",
      " episode #4222 : score = -0.00, mean score of last 100 episodes = 0.16\n",
      " episode #4236 : score = 0.25, mean score of last 100 episodes = 0.15\n",
      " episode #4246 : score = 0.15, mean score of last 100 episodes = 0.16\n",
      " episode #4261 : score = 0.10, mean score of last 100 episodes = 0.16\n",
      " episode #4266 : score = 0.15, mean score of last 100 episodes = 0.18\n",
      " episode #4275 : score = 0.25, mean score of last 100 episodes = 0.18\n",
      " episode #4282 : score = 0.25, mean score of last 100 episodes = 0.19\n",
      " episode #4292 : score = 0.15, mean score of last 100 episodes = 0.20\n",
      " episode #4301 : score = 0.05, mean score of last 100 episodes = 0.20\n",
      " episode #4310 : score = 0.20, mean score of last 100 episodes = 0.22\n",
      " episode #4319 : score = 0.45, mean score of last 100 episodes = 0.23\n",
      " episode #4330 : score = 0.10, mean score of last 100 episodes = 0.24\n",
      " episode #4338 : score = 0.30, mean score of last 100 episodes = 0.24\n",
      " episode #4348 : score = 0.10, mean score of last 100 episodes = 0.24\n",
      " episode #4360 : score = 0.10, mean score of last 100 episodes = 0.25\n",
      " episode #4367 : score = 0.75, mean score of last 100 episodes = 0.24\n",
      " episode #4375 : score = 0.30, mean score of last 100 episodes = 0.25\n",
      " episode #4386 : score = 0.15, mean score of last 100 episodes = 0.24\n",
      " episode #4389 : score = 0.95, mean score of last 100 episodes = 0.26\n",
      " episode #4398 : score = 0.30, mean score of last 100 episodes = 0.26\n",
      " episode #4411 : score = 0.05, mean score of last 100 episodes = 0.25\n",
      " episode #4417 : score = 0.05, mean score of last 100 episodes = 0.25\n",
      " episode #4424 : score = 0.20, mean score of last 100 episodes = 0.26\n",
      " episode #4434 : score = 0.05, mean score of last 100 episodes = 0.26\n",
      " episode #4439 : score = 0.10, mean score of last 100 episodes = 0.27\n",
      " episode #4446 : score = 0.65, mean score of last 100 episodes = 0.29\n",
      " episode #4455 : score = 0.55, mean score of last 100 episodes = 0.29\n",
      " episode #4461 : score = 0.10, mean score of last 100 episodes = 0.30\n",
      " episode #4472 : score = 0.30, mean score of last 100 episodes = 0.29\n",
      " episode #4479 : score = 0.10, mean score of last 100 episodes = 0.30\n",
      " episode #4486 : score = 1.40, mean score of last 100 episodes = 0.31\n",
      " episode #4494 : score = 0.45, mean score of last 100 episodes = 0.29\n",
      " episode #4504 : score = 0.40, mean score of last 100 episodes = 0.30\n",
      " episode #4513 : score = 0.45, mean score of last 100 episodes = 0.30\n",
      " episode #4518 : score = 0.95, mean score of last 100 episodes = 0.30\n",
      " episode #4528 : score = 0.25, mean score of last 100 episodes = 0.30\n",
      " episode #4532 : score = 0.60, mean score of last 100 episodes = 0.31\n",
      " episode #4537 : score = 0.45, mean score of last 100 episodes = 0.32\n",
      " episode #4541 : score = 0.40, mean score of last 100 episodes = 0.33\n",
      " episode #4546 : score = 0.35, mean score of last 100 episodes = 0.33\n",
      " episode #4553 : score = 0.10, mean score of last 100 episodes = 0.34\n",
      " episode #4554 : score = 2.30, mean score of last 100 episodes = 0.36\n",
      " episode #4558 : score = 0.15, mean score of last 100 episodes = 0.37\n",
      " episode #4561 : score = 2.05, mean score of last 100 episodes = 0.39\n",
      " episode #4563 : score = 0.15, mean score of last 100 episodes = 0.41\n",
      " episode #4565 : score = 0.75, mean score of last 100 episodes = 0.43\n",
      " episode #4567 : score = 0.70, mean score of last 100 episodes = 0.46\n",
      " episode #4568 : score = 0.25, mean score of last 100 episodes = 0.46\n",
      " episode #4576 : score = 0.70, mean score of last 100 episodes = 0.48\n",
      " episode #4580 : score = 0.45, mean score of last 100 episodes = 0.49\n",
      " episode #4584 : score = 1.70, mean score of last 100 episodes = 0.51\n",
      "\n",
      " ==== Achieved criteria! Model is saved.\n"
     ]
    }
   ],
   "source": [
    "train()"
   ]
  },
  {
   "cell_type": "code",
   "execution_count": 8,
   "metadata": {},
   "outputs": [],
   "source": [
    "def plot(fpath):\n",
    "    with open(fpath, \"rb\") as fp:\n",
    "        scores = pickle.load(fp)\n",
    "\n",
    "    episodes = np.arange(len(scores)) + 1\n",
    "    scores = pd.Series(scores)\n",
    "    avg_scores = scores.rolling(100).mean()\n",
    "\n",
    "    fig, ax = plt.subplots(1, 1, figsize=[15, 10])\n",
    "    ax.plot(avg_scores, \"-\", c=\"green\", linewidth=6)\n",
    "    ax.plot(scores, \"-\", c=\"black\", alpha=0.7)\n",
    "    ax.set_xlabel(\"Episode\")\n",
    "    ax.set_ylabel(\"Score\")\n",
    "    ax.grid(which=\"major\")\n",
    "    ax.legend([\"Score of Each Episode\", \"Moving Average of last 100 Episode\", \\\n",
    "     \"Criteria\"])\n",
    "    fig.tight_layout()\n",
    "    fig.savefig(\"result.png\")"
   ]
  },
  {
   "cell_type": "code",
   "execution_count": 11,
   "metadata": {},
   "outputs": [
    {
     "data": {
      "image/png": "[encoded data removed]",
      "text/plain": [
       "<matplotlib.figure.Figure at 0x7f1e4287d8d0>"
      ]
     },
     "metadata": {
      "needs_background": "light"
     },
     "output_type": "display_data"
    }
   ],
   "source": [
    "plot(\"./result.pickle\")"
   ]
  },
  {
   "cell_type": "code",
   "execution_count": null,
   "metadata": {},
   "outputs": [],
   "source": [
    "env.close()"
   ]
  },
  {
   "cell_type": "code",
   "execution_count": 10,
   "metadata": {},
   "outputs": [],
   "source": []
  },
  {
   "cell_type": "markdown",
   "metadata": {},
   "source": [
    "### 4. It's Your Turn!\n",
    "\n",
    "Now it's your turn to train your own agent to solve the environment!  A few **important notes**:\n",
    "- When training the environment, set `train_mode=True`, so that the line for resetting the environment looks like the following:\n",
    "```python\n",
    "env_info = env.reset(train_mode=True)[brain_name]\n",
    "```\n",
    "- To structure your work, you're welcome to work directly in this Jupyter notebook, or you might like to start over with a new file!  You can see the list of files in the workspace by clicking on **_Jupyter_** in the top left corner of the notebook.\n",
    "- In this coding environment, you will not be able to watch the agents while they are training.  However, **_after training the agents_**, you can download the saved model weights to watch the agents on your own machine! "
   ]
  }
 ],
 "metadata": {
  "kernelspec": {
   "display_name": "Python 3",
   "language": "python",
   "name": "python3"
  },
  "language_info": {
   "codemirror_mode": {
    "name": "ipython",
    "version": 3
   },
   "file_extension": ".py",
   "mimetype": "text/x-python",
   "name": "python",
   "nbconvert_exporter": "python",
   "pygments_lexer": "ipython3",
   "version": "3.6.3"
  }
 },
 "nbformat": 4,
 "nbformat_minor": 2
}
